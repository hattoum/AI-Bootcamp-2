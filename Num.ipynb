{
 "cells": [
  {
   "cell_type": "markdown",
   "metadata": {},
   "source": [
    "# Python [Numpy](https://numpy.org/) \n",
    " NumPy is a Python library , which supports multi-dimensional arrays and matrices. In adition, Numpy supports a  collection of high-level mathematical functions to operate on these arrays."
   ]
  },
  {
   "cell_type": "code",
   "execution_count": 1,
   "metadata": {},
   "outputs": [],
   "source": [
    "import numpy as np"
   ]
  },
  {
   "cell_type": "markdown",
   "metadata": {},
   "source": [
    "# Array creation"
   ]
  },
  {
   "cell_type": "code",
   "execution_count": 2,
   "metadata": {},
   "outputs": [
    {
     "data": {
      "text/plain": [
       "array([1, 2, 3, 4, 5, 6, 7, 8, 9])"
      ]
     },
     "execution_count": 2,
     "metadata": {},
     "output_type": "execute_result"
    }
   ],
   "source": [
    "# Create array from a list\n",
    "a = np.array([1,2,3,4,5,6,7,8,9])\n",
    "a"
   ]
  },
  {
   "cell_type": "code",
   "execution_count": 3,
   "metadata": {},
   "outputs": [
    {
     "data": {
      "text/plain": [
       "array([0, 1, 2, 3, 4, 5, 6, 7, 8, 9])"
      ]
     },
     "execution_count": 3,
     "metadata": {},
     "output_type": "execute_result"
    }
   ],
   "source": [
    "# Create from Array Range\n",
    "a = np.arange(10)\n",
    "a"
   ]
  },
  {
   "cell_type": "code",
   "execution_count": 4,
   "metadata": {},
   "outputs": [
    {
     "data": {
      "text/plain": [
       "array([ 1,  4,  7, 10, 13, 16, 19])"
      ]
     },
     "execution_count": 4,
     "metadata": {},
     "output_type": "execute_result"
    }
   ],
   "source": [
    "# Create evenly spaced values within a given range\n",
    "a = np.arange(1,21,3)\n",
    "a"
   ]
  },
  {
   "cell_type": "code",
   "execution_count": 5,
   "metadata": {},
   "outputs": [
    {
     "data": {
      "text/plain": [
       "array([0.  , 0.25, 0.5 , 0.75, 1.  ])"
      ]
     },
     "execution_count": 5,
     "metadata": {},
     "output_type": "execute_result"
    }
   ],
   "source": [
    "# Create By specifying the number of elements\n",
    "a = np.linspace(0, 1, 5)\n",
    "a"
   ]
  },
  {
   "cell_type": "code",
   "execution_count": 6,
   "metadata": {},
   "outputs": [
    {
     "data": {
      "text/plain": [
       "array([0., 0., 0.])"
      ]
     },
     "execution_count": 6,
     "metadata": {},
     "output_type": "execute_result"
    }
   ],
   "source": [
    "#Create with Random-initialization\n",
    "a = np.empty(3)\n",
    "a"
   ]
  },
  {
   "cell_type": "code",
   "execution_count": 7,
   "metadata": {},
   "outputs": [
    {
     "name": "stdout",
     "output_type": "stream",
     "text": [
      "All zeros array  [0. 0. 0. 0. 0.]\n"
     ]
    },
    {
     "data": {
      "text/plain": [
       "array([[1., 1., 1., 1.],\n",
       "       [1., 1., 1., 1.],\n",
       "       [1., 1., 1., 1.]])"
      ]
     },
     "execution_count": 7,
     "metadata": {},
     "output_type": "execute_result"
    }
   ],
   "source": [
    "# Create with (One or Zero)-initialization\n",
    "\n",
    "a = np.zeros(5)\n",
    "print(\"All zeros array \", a)\n",
    "\n",
    "b = np.ones((3,4))\n",
    "b\n"
   ]
  },
  {
   "cell_type": "code",
   "execution_count": 8,
   "metadata": {},
   "outputs": [
    {
     "name": "stdout",
     "output_type": "stream",
     "text": [
      "Identity Matrix  [[1. 0. 0.]\n",
      " [0. 1. 0.]\n",
      " [0. 0. 1.]]\n"
     ]
    },
    {
     "data": {
      "text/plain": [
       "array([[1, 0, 0, 0],\n",
       "       [0, 2, 0, 0],\n",
       "       [0, 0, 3, 0],\n",
       "       [0, 0, 0, 4]])"
      ]
     },
     "execution_count": 8,
     "metadata": {},
     "output_type": "execute_result"
    }
   ],
   "source": [
    "#Create Diagonal Array\n",
    "a = np.eye(3) # 3 x 3 , Diagonal array Initialized with ONEs (Identity/Unit)\n",
    "print(\"Identity Matrix \", a)\n",
    "\n",
    "b = np.diag([1,2,3,4]) # 4 x4 , Diagonal array Initialized with 1,2,3,4 respectivily\n",
    "b"
   ]
  },
  {
   "cell_type": "markdown",
   "metadata": {},
   "source": [
    "# Load NumPy Arrays From Text"
   ]
  },
  {
   "cell_type": "code",
   "execution_count": 9,
   "metadata": {},
   "outputs": [
    {
     "data": {
      "text/plain": [
       "array([0.2536, 0.4839, 0.1292, 0.1781, 0.6253])"
      ]
     },
     "execution_count": 9,
     "metadata": {},
     "output_type": "execute_result"
    }
   ],
   "source": [
    "# Import your data\n",
    "x, y, z = np.loadtxt('data.txt',skiprows=1,unpack=True)\n",
    "x"
   ]
  },
  {
   "cell_type": "code",
   "execution_count": 10,
   "metadata": {},
   "outputs": [
    {
     "data": {
      "text/plain": [
       "array([[0.2536, 0.1008, 0.3857],\n",
       "       [0.4839, 0.4536, 0.3561],\n",
       "       [0.1292, 0.6875, 0.5929],\n",
       "       [0.1781, 0.3049, 0.8928],\n",
       "       [0.6253, 0.3486, 0.8791]])"
      ]
     },
     "execution_count": 10,
     "metadata": {},
     "output_type": "execute_result"
    }
   ],
   "source": [
    "a = np.loadtxt('data.txt',skiprows=1,unpack=False)\n",
    "a"
   ]
  },
  {
   "cell_type": "code",
   "execution_count": 11,
   "metadata": {},
   "outputs": [
    {
     "data": {
      "text/plain": [
       "array([[   nan, 0.1008, 0.3857],\n",
       "       [0.4839, 0.4536, 0.3561],\n",
       "       [0.1292,    nan, 0.5929],\n",
       "       [0.1781, 0.3049, 0.8928],\n",
       "       [0.6253, 0.3486,    nan]])"
      ]
     },
     "execution_count": 11,
     "metadata": {},
     "output_type": "execute_result"
    }
   ],
   "source": [
    "a = np.genfromtxt('data_missing.txt', skip_header=1)\n",
    "a"
   ]
  },
  {
   "cell_type": "code",
   "execution_count": 12,
   "metadata": {},
   "outputs": [
    {
     "data": {
      "text/plain": [
       "array([[0.    , 0.1008, 0.3857],\n",
       "       [0.4839, 0.4536, 0.3561],\n",
       "       [0.1292, 0.    , 0.5929],\n",
       "       [0.1781, 0.3049, 0.8928],\n",
       "       [0.6253, 0.3486, 0.    ]])"
      ]
     },
     "execution_count": 12,
     "metadata": {},
     "output_type": "execute_result"
    }
   ],
   "source": [
    "a = np.genfromtxt('data_missing.txt', skip_header=1, filling_values=0)\n",
    "a"
   ]
  },
  {
   "cell_type": "markdown",
   "metadata": {},
   "source": [
    "# Save NumPy Arrays"
   ]
  },
  {
   "cell_type": "code",
   "execution_count": 13,
   "metadata": {},
   "outputs": [],
   "source": [
    "np.savetxt('test.out', a, delimiter=',')"
   ]
  },
  {
   "cell_type": "code",
   "execution_count": 14,
   "metadata": {},
   "outputs": [
    {
     "name": "stdout",
     "output_type": "stream",
     "text": [
      "Array Lenght  10\n",
      "Array Shape  (10,)\n"
     ]
    }
   ],
   "source": [
    "# Array lenght\n",
    "a = np.arange(10)\n",
    "\n",
    "print(\"Array Lenght \", len(a))\n",
    "\n",
    "# Array Shape\n",
    "print(\"Array Shape \", a.shape)"
   ]
  },
  {
   "cell_type": "code",
   "execution_count": 15,
   "metadata": {},
   "outputs": [
    {
     "name": "stdout",
     "output_type": "stream",
     "text": [
      "Matrix Lenght  3\n",
      "Matrix Shape  (3, 4)\n"
     ]
    }
   ],
   "source": [
    "# Matrix length\n",
    "a = np.ones((3,4))\n",
    "\n",
    "print(\"Matrix Lenght \", len(a))\n",
    "\n",
    "# Matrix Shape\n",
    "print(\"Matrix Shape \", a.shape)"
   ]
  },
  {
   "cell_type": "code",
   "execution_count": 16,
   "metadata": {},
   "outputs": [
    {
     "name": "stdout",
     "output_type": "stream",
     "text": [
      "Array Size  12\n"
     ]
    }
   ],
   "source": [
    "# Array Size: return number of elements\n",
    "a = np.ones((3,4))\n",
    "\n",
    "print(\"Array Size \", a.size)"
   ]
  },
  {
   "cell_type": "code",
   "execution_count": 17,
   "metadata": {},
   "outputs": [
    {
     "name": "stdout",
     "output_type": "stream",
     "text": [
      "Default Data Type  float64\n",
      "Defined Data Type  float32\n"
     ]
    }
   ],
   "source": [
    "# Display Elements type\n",
    "a = np.ones((3,4))\n",
    "print(\"Default Data Type \",a.dtype)\n",
    "\n",
    "# Define Elements Type\n",
    "b = np.ones((3,4),dtype=np.float32)\n",
    "print(\"Defined Data Type \",b.dtype)"
   ]
  },
  {
   "cell_type": "markdown",
   "metadata": {},
   "source": [
    "# Array Slicing & Reshaping"
   ]
  },
  {
   "cell_type": "code",
   "execution_count": 18,
   "metadata": {},
   "outputs": [
    {
     "data": {
      "text/plain": [
       "array([[ 0,  1,  2,  3,  4],\n",
       "       [ 5,  6,  7,  8,  9],\n",
       "       [10, 11, 12, 13, 14]])"
      ]
     },
     "execution_count": 18,
     "metadata": {},
     "output_type": "execute_result"
    }
   ],
   "source": [
    "# Array Reshaping\n",
    "a=np.arange(15) # Create Array “a” one row , 15 columns\n",
    "\n",
    "b=a.reshape(3,5) # reshape to 3 rows , 5 columns\n",
    "b"
   ]
  },
  {
   "cell_type": "code",
   "execution_count": 19,
   "metadata": {},
   "outputs": [
    {
     "name": "stdout",
     "output_type": "stream",
     "text": [
      "All columns, first two rows  [[0 1 2 3 4]\n",
      " [5 6 7 8 9]]\n",
      "Third columns, first two rows  [2 7]\n"
     ]
    }
   ],
   "source": [
    "# Array Slicing: we can constructe a slice by start:stop:step notation \n",
    "\n",
    "# All columns, first two rows\n",
    "print(\"All columns, first two rows \", b[0:2,:])\n",
    "\n",
    "# Third columns, first two rows\n",
    "print(\"Third columns, first two rows \", b[0:2,2])\n"
   ]
  },
  {
   "cell_type": "markdown",
   "metadata": {},
   "source": [
    "# [ufuncs](https://docs.scipy.org/doc/numpy/reference/ufuncs.html)\n",
    "NumPy ufuncs are functions that operate element-wise on one or more arrays\n",
    "- Arithmetic\n",
    "    * + , - , * , / , square\n",
    "- comparison operation\n",
    "    * <, <=, == , != , >= , >\n",
    "- Exponential operations\n",
    "    * Exp2 Calculate 2**p for all p in the input array.\n",
    "    * log Natural logarithm, element-wise.\n",
    "    * log2 Base-2 logarithm of x.\n",
    "    * log10 Return the base 10 logarithm of the input array, element-wise.\n",
    "    * sqrt Return the non-negative square-root of an array, element-wise.\n",
    "    * square Return the element-wise square of the input.\n",
    "    * cbrt Return the cube-root of an array, element-wise.\n",
    "    * power First array elements raised to powers from second array, element-wise.\n",
    "    * Remainder Return element-wise remainder of division.\n",
    "    * mod Return element-wise remainder of division.\n",
    "    * fmod Return the element-wise remainder of division.\n",
    "    * divmod Return element-wise quotient and remainder simultaneously.\n",
    "    * absolute Calculate the absolute value element-wise.\n",
    "    * fabs Compute the absolute values element-wise."
   ]
  },
  {
   "cell_type": "code",
   "execution_count": 20,
   "metadata": {},
   "outputs": [
    {
     "name": "stdout",
     "output_type": "stream",
     "text": [
      "a  [0 1 2 3 4]\n",
      "b  [ 1.  2.  4.  8. 16.]\n",
      "c  [0. 1. 2. 3. 4.]\n"
     ]
    }
   ],
   "source": [
    "a = np.arange(5)\n",
    "b = np.exp2(a)\n",
    "c = np.log2(b)\n",
    "print(\"a \", a)\n",
    "print(\"b \", b)\n",
    "print(\"c \", c)"
   ]
  },
  {
   "cell_type": "markdown",
   "metadata": {},
   "source": [
    "# NumPy Broadcasting\n",
    "Broadcasting is a mechanism that allows NumPy to work with arrays of different shapes when you’re performing arithmetic operations."
   ]
  },
  {
   "cell_type": "code",
   "execution_count": 21,
   "metadata": {},
   "outputs": [
    {
     "data": {
      "text/plain": [
       "array([[2., 2., 2., 2.],\n",
       "       [2., 2., 2., 2.],\n",
       "       [2., 2., 2., 2.]])"
      ]
     },
     "execution_count": 21,
     "metadata": {},
     "output_type": "execute_result"
    }
   ],
   "source": [
    "a = np.ones((3,4))\n",
    "b = np.ones(4)\n",
    "c = a + b\n",
    "c"
   ]
  },
  {
   "cell_type": "code",
   "execution_count": 22,
   "metadata": {},
   "outputs": [
    {
     "data": {
      "text/plain": [
       "array([[0., 0., 0., 0.],\n",
       "       [0., 0., 0., 0.],\n",
       "       [0., 0., 0., 0.]])"
      ]
     },
     "execution_count": 22,
     "metadata": {},
     "output_type": "execute_result"
    }
   ],
   "source": [
    "d = np.subtract(a,a) #multiply\n",
    "d"
   ]
  },
  {
   "cell_type": "markdown",
   "metadata": {},
   "source": [
    "# Numpy Axis Sum"
   ]
  },
  {
   "cell_type": "code",
   "execution_count": 23,
   "metadata": {},
   "outputs": [
    {
     "data": {
      "text/plain": [
       "array([[ 0,  1,  2,  3,  4],\n",
       "       [ 5,  6,  7,  8,  9],\n",
       "       [10, 11, 12, 13, 14]])"
      ]
     },
     "execution_count": 23,
     "metadata": {},
     "output_type": "execute_result"
    }
   ],
   "source": [
    "a = np.arange(15)\n",
    "a = a.reshape(3,5)\n",
    "\n",
    "a"
   ]
  },
  {
   "cell_type": "code",
   "execution_count": 24,
   "metadata": {},
   "outputs": [
    {
     "data": {
      "text/plain": [
       "array([15, 18, 21, 24, 27])"
      ]
     },
     "execution_count": 24,
     "metadata": {},
     "output_type": "execute_result"
    }
   ],
   "source": [
    "sum(a)"
   ]
  },
  {
   "cell_type": "code",
   "execution_count": 25,
   "metadata": {},
   "outputs": [
    {
     "data": {
      "text/plain": [
       "105"
      ]
     },
     "execution_count": 25,
     "metadata": {},
     "output_type": "execute_result"
    }
   ],
   "source": [
    "np.sum(a)"
   ]
  },
  {
   "cell_type": "code",
   "execution_count": 26,
   "metadata": {},
   "outputs": [
    {
     "data": {
      "text/plain": [
       "array([15, 18, 21, 24, 27])"
      ]
     },
     "execution_count": 26,
     "metadata": {},
     "output_type": "execute_result"
    }
   ],
   "source": [
    "a.sum(axis=0)"
   ]
  },
  {
   "cell_type": "code",
   "execution_count": 27,
   "metadata": {},
   "outputs": [
    {
     "data": {
      "text/plain": [
       "array([15, 18, 21, 24, 27])"
      ]
     },
     "execution_count": 27,
     "metadata": {},
     "output_type": "execute_result"
    }
   ],
   "source": [
    "a.sum(axis=0)"
   ]
  },
  {
   "cell_type": "code",
   "execution_count": null,
   "metadata": {},
   "outputs": [],
   "source": []
  }
 ],
 "metadata": {
  "kernelspec": {
   "display_name": "Python 3",
   "language": "python",
   "name": "python3"
  },
  "language_info": {
   "codemirror_mode": {
    "name": "ipython",
    "version": 3
   },
   "file_extension": ".py",
   "mimetype": "text/x-python",
   "name": "python",
   "nbconvert_exporter": "python",
   "pygments_lexer": "ipython3",
   "version": "3.6.5"
  }
 },
 "nbformat": 4,
 "nbformat_minor": 2
}
